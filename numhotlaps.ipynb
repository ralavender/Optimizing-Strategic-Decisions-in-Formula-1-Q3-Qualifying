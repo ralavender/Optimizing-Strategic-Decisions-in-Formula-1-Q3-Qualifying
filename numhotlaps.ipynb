{
 "cells": [
  {
   "cell_type": "code",
   "execution_count": 70,
   "id": "8ac6e099-4f2e-4e9f-bcea-68fd0a153af0",
   "metadata": {},
   "outputs": [],
   "source": [
    "import pandas as pd\n",
    "import numpy as np\n",
    "import seaborn as sns"
   ]
  },
  {
   "cell_type": "code",
   "execution_count": 71,
   "id": "a7733c64-82e9-4936-ba8f-6aa1305fefe2",
   "metadata": {},
   "outputs": [
    {
     "name": "stdout",
     "output_type": "stream",
     "text": [
      "(428, 19)\n"
     ]
    },
    {
     "data": {
      "text/html": [
       "<div>\n",
       "<style scoped>\n",
       "    .dataframe tbody tr th:only-of-type {\n",
       "        vertical-align: middle;\n",
       "    }\n",
       "\n",
       "    .dataframe tbody tr th {\n",
       "        vertical-align: top;\n",
       "    }\n",
       "\n",
       "    .dataframe thead th {\n",
       "        text-align: right;\n",
       "    }\n",
       "</style>\n",
       "<table border=\"1\" class=\"dataframe\">\n",
       "  <thead>\n",
       "    <tr style=\"text-align: right;\">\n",
       "      <th></th>\n",
       "      <th>Date</th>\n",
       "      <th>Name of Race</th>\n",
       "      <th>Name of Track</th>\n",
       "      <th>Driver Name</th>\n",
       "      <th>Team</th>\n",
       "      <th>Teammate in Q3</th>\n",
       "      <th>Attempted Hot Lap Number (1 or 2)</th>\n",
       "      <th>Time Remaining in Session at start of Outlap (Seconds)</th>\n",
       "      <th>Number of Outlaps</th>\n",
       "      <th>Amount of Drivers on Track at start of Hot Lap</th>\n",
       "      <th>Track Temperature at start of Hotlap</th>\n",
       "      <th>Weather at start of Hot Lap</th>\n",
       "      <th>Tire type during hot lap</th>\n",
       "      <th>Sector 1 Time</th>\n",
       "      <th>Sector 2 Time</th>\n",
       "      <th>Sector 3 Time</th>\n",
       "      <th>Length of Hotlap Attempt</th>\n",
       "      <th>Position after Lap</th>\n",
       "      <th>Position after Session End</th>\n",
       "    </tr>\n",
       "  </thead>\n",
       "  <tbody>\n",
       "    <tr>\n",
       "      <th>0</th>\n",
       "      <td>20240301</td>\n",
       "      <td>Gulf Air Bahrain Grand Prix</td>\n",
       "      <td>Bahrain International Circuit</td>\n",
       "      <td>VERSTAPPEN</td>\n",
       "      <td>Red Bull</td>\n",
       "      <td>Y</td>\n",
       "      <td>1</td>\n",
       "      <td>678</td>\n",
       "      <td>1</td>\n",
       "      <td>8</td>\n",
       "      <td>21.0</td>\n",
       "      <td>Clear</td>\n",
       "      <td>S</td>\n",
       "      <td>28.686</td>\n",
       "      <td>38.361</td>\n",
       "      <td>22.374</td>\n",
       "      <td>89.421</td>\n",
       "      <td>1</td>\n",
       "      <td>1</td>\n",
       "    </tr>\n",
       "    <tr>\n",
       "      <th>1</th>\n",
       "      <td>20240301</td>\n",
       "      <td>Gulf Air Bahrain Grand Prix</td>\n",
       "      <td>Bahrain International Circuit</td>\n",
       "      <td>VERSTAPPEN</td>\n",
       "      <td>Red Bull</td>\n",
       "      <td>Y</td>\n",
       "      <td>2</td>\n",
       "      <td>162</td>\n",
       "      <td>1</td>\n",
       "      <td>8</td>\n",
       "      <td>21.0</td>\n",
       "      <td>Clear</td>\n",
       "      <td>S</td>\n",
       "      <td>28.535</td>\n",
       "      <td>38.269</td>\n",
       "      <td>22.375</td>\n",
       "      <td>89.179</td>\n",
       "      <td>1</td>\n",
       "      <td>1</td>\n",
       "    </tr>\n",
       "    <tr>\n",
       "      <th>2</th>\n",
       "      <td>20240301</td>\n",
       "      <td>Gulf Air Bahrain Grand Prix</td>\n",
       "      <td>Bahrain International Circuit</td>\n",
       "      <td>LECLERC</td>\n",
       "      <td>Ferrari</td>\n",
       "      <td>Y</td>\n",
       "      <td>1</td>\n",
       "      <td>641</td>\n",
       "      <td>1</td>\n",
       "      <td>8</td>\n",
       "      <td>21.1</td>\n",
       "      <td>Clear</td>\n",
       "      <td>S</td>\n",
       "      <td>28.863</td>\n",
       "      <td>38.344</td>\n",
       "      <td>22.273</td>\n",
       "      <td>89.480</td>\n",
       "      <td>2</td>\n",
       "      <td>2</td>\n",
       "    </tr>\n",
       "    <tr>\n",
       "      <th>3</th>\n",
       "      <td>20240301</td>\n",
       "      <td>Gulf Air Bahrain Grand Prix</td>\n",
       "      <td>Bahrain International Circuit</td>\n",
       "      <td>LECLERC</td>\n",
       "      <td>Ferrari</td>\n",
       "      <td>Y</td>\n",
       "      <td>2</td>\n",
       "      <td>151</td>\n",
       "      <td>1</td>\n",
       "      <td>8</td>\n",
       "      <td>21.0</td>\n",
       "      <td>Clear</td>\n",
       "      <td>S</td>\n",
       "      <td>28.762</td>\n",
       "      <td>38.276</td>\n",
       "      <td>22.369</td>\n",
       "      <td>89.407</td>\n",
       "      <td>2</td>\n",
       "      <td>2</td>\n",
       "    </tr>\n",
       "    <tr>\n",
       "      <th>4</th>\n",
       "      <td>20240301</td>\n",
       "      <td>Gulf Air Bahrain Grand Prix</td>\n",
       "      <td>Bahrain International Circuit</td>\n",
       "      <td>RUSSELL</td>\n",
       "      <td>Mercedes</td>\n",
       "      <td>Y</td>\n",
       "      <td>1</td>\n",
       "      <td>687</td>\n",
       "      <td>1</td>\n",
       "      <td>8</td>\n",
       "      <td>21.0</td>\n",
       "      <td>Clear</td>\n",
       "      <td>S</td>\n",
       "      <td>28.800</td>\n",
       "      <td>38.503</td>\n",
       "      <td>22.300</td>\n",
       "      <td>89.603</td>\n",
       "      <td>1</td>\n",
       "      <td>3</td>\n",
       "    </tr>\n",
       "  </tbody>\n",
       "</table>\n",
       "</div>"
      ],
      "text/plain": [
       "       Date                 Name of Race                  Name of Track  \\\n",
       "0  20240301  Gulf Air Bahrain Grand Prix  Bahrain International Circuit   \n",
       "1  20240301  Gulf Air Bahrain Grand Prix  Bahrain International Circuit   \n",
       "2  20240301  Gulf Air Bahrain Grand Prix  Bahrain International Circuit   \n",
       "3  20240301  Gulf Air Bahrain Grand Prix  Bahrain International Circuit   \n",
       "4  20240301  Gulf Air Bahrain Grand Prix  Bahrain International Circuit   \n",
       "\n",
       "  Driver Name      Team Teammate in Q3  Attempted Hot Lap Number (1 or 2)  \\\n",
       "0  VERSTAPPEN  Red Bull              Y                                  1   \n",
       "1  VERSTAPPEN  Red Bull              Y                                  2   \n",
       "2     LECLERC   Ferrari              Y                                  1   \n",
       "3     LECLERC   Ferrari              Y                                  2   \n",
       "4     RUSSELL  Mercedes              Y                                  1   \n",
       "\n",
       "   Time Remaining in Session at start of Outlap (Seconds)  Number of Outlaps  \\\n",
       "0                                                678                       1   \n",
       "1                                                162                       1   \n",
       "2                                                641                       1   \n",
       "3                                                151                       1   \n",
       "4                                                687                       1   \n",
       "\n",
       "   Amount of Drivers on Track at start of Hot Lap  \\\n",
       "0                                               8   \n",
       "1                                               8   \n",
       "2                                               8   \n",
       "3                                               8   \n",
       "4                                               8   \n",
       "\n",
       "   Track Temperature at start of Hotlap Weather at start of Hot Lap  \\\n",
       "0                                  21.0                       Clear   \n",
       "1                                  21.0                       Clear   \n",
       "2                                  21.1                       Clear   \n",
       "3                                  21.0                       Clear   \n",
       "4                                  21.0                       Clear   \n",
       "\n",
       "  Tire type during hot lap  Sector 1 Time  Sector 2 Time  Sector 3 Time  \\\n",
       "0                        S         28.686         38.361         22.374   \n",
       "1                        S         28.535         38.269         22.375   \n",
       "2                        S         28.863         38.344         22.273   \n",
       "3                        S         28.762         38.276         22.369   \n",
       "4                        S         28.800         38.503         22.300   \n",
       "\n",
       "   Length of Hotlap Attempt Position after Lap  Position after Session End  \n",
       "0                    89.421                  1                           1  \n",
       "1                    89.179                  1                           1  \n",
       "2                    89.480                  2                           2  \n",
       "3                    89.407                  2                           2  \n",
       "4                    89.603                  1                           3  "
      ]
     },
     "execution_count": 71,
     "metadata": {},
     "output_type": "execute_result"
    }
   ],
   "source": [
    "df = pd.read_csv('F1_Q3_2024.csv')\n",
    "df = df.dropna()\n",
    "print(df.shape)\n",
    "df.head()"
   ]
  },
  {
   "cell_type": "code",
   "execution_count": 72,
   "id": "e6c4552d-ad03-46f2-a674-18e554709a11",
   "metadata": {},
   "outputs": [],
   "source": [
    "# Reduce column name length (makes them easier to work with)\n",
    "abbv = ['DATE', 'RACE', 'TRACK', 'DRIVER', 'TEAM', 'TEAMMATE', 'HOTLAP_ATT', 'OUTLAP_START', 'NUM_OUTLAPS', 'TRAFFIC', 'TRACK_TEMP', 'WEATHER', 'TIRE', 'S1_TIME', 'S2_TIME', 'S3_TIME', 'TOTAL_TIME', 'POS_TEMP', 'POS_FINAL']\n",
    "df.columns = abbv"
   ]
  },
  {
   "cell_type": "code",
   "execution_count": 73,
   "id": "13a1bb92-33a0-4418-a13b-5e5944ed8fcc",
   "metadata": {},
   "outputs": [],
   "source": [
    "# Sort data first by date of the session, then by driver name\n",
    "df = df.sort_values(by=['DATE', 'DRIVER'])"
   ]
  },
  {
   "cell_type": "code",
   "execution_count": 74,
   "id": "6e8baadb-0889-4250-8ab8-976234051ae1",
   "metadata": {},
   "outputs": [
    {
     "data": {
      "text/plain": [
       "370"
      ]
     },
     "execution_count": 74,
     "metadata": {},
     "output_type": "execute_result"
    }
   ],
   "source": [
    "# For each session, and for each driver, count number of hotlaps completed\n",
    "hotlaps = df.groupby(['DATE', 'DRIVER']).HOTLAP_ATT.count()\n",
    "\n",
    "# Create a series to indicate session-driver pairings where 2 hotlaps were completed\n",
    "multi_hotlap = hotlaps[hotlaps == 2].index\n",
    "\n",
    "# Filter data to contain only samples involved in a 2 hotlap session\n",
    "multi_hotlap_df = df[df[['DATE', 'DRIVER']].apply(tuple, axis=1).isin(multi_hotlap.tolist())]\n",
    "multi_hotlap_df.shape[0]"
   ]
  },
  {
   "cell_type": "code",
   "execution_count": 75,
   "id": "7aa92b04-8403-43f4-a0d0-5c922b0d2173",
   "metadata": {},
   "outputs": [
    {
     "data": {
      "text/plain": [
       "HOTLAP_ATT\n",
       "1    185\n",
       "2    185\n",
       "Name: count, dtype: int64"
      ]
     },
     "execution_count": 75,
     "metadata": {},
     "output_type": "execute_result"
    }
   ],
   "source": [
    "# Check how many HOTLAP_ATT values are 1 or 2\n",
    "multi_hotlap_df[\"HOTLAP_ATT\"].value_counts().sort_index()"
   ]
  },
  {
   "cell_type": "code",
   "execution_count": 76,
   "id": "a1edb142-1635-4ab7-9fca-8a1b04a08338",
   "metadata": {},
   "outputs": [],
   "source": [
    "from scipy.stats import ttest_rel"
   ]
  },
  {
   "cell_type": "code",
   "execution_count": 77,
   "id": "f351f650-fb6c-49cb-bd18-f05f5833abe9",
   "metadata": {},
   "outputs": [
    {
     "name": "stdout",
     "output_type": "stream",
     "text": [
      "T-stat: -9.109162784527106\n",
      "p-value: 1.3974446576256044e-16\n",
      "95% CI: [-0.41605356251379305, -0.2679140050537759]\n"
     ]
    }
   ],
   "source": [
    "# Test whether attempting a 2nd hotlap yields a significant improvement in lap time\n",
    "\n",
    "lap_one_times = multi_hotlap_df[(multi_hotlap_df.HOTLAP_ATT == 1)].TOTAL_TIME\n",
    "lap_two_times = multi_hotlap_df[(multi_hotlap_df.HOTLAP_ATT == 2)].TOTAL_TIME\n",
    "\n",
    "# H_0: There is no difference in average time for the first hotlap attempt and second hotlap attempt. L2-L1 = 0\n",
    "# H_1: There is a difference in average time for the first hotlap attempt and second hotlap attempt. L2-L1 != 0\n",
    "\n",
    "result = ttest_rel(lap_two_times, lap_one_times, alternative='two-sided')\n",
    "print('T-stat:', result.statistic)\n",
    "print('p-value:', result.pvalue)\n",
    "ci_95 = result.confidence_interval(confidence_level=0.95)\n",
    "print(f\"95% CI: [{ci_95.low}, {ci_95.high:}]\")"
   ]
  },
  {
   "cell_type": "code",
   "execution_count": 78,
   "id": "f6791bd0-b591-4c00-b8f2-4b9a8b98433b",
   "metadata": {},
   "outputs": [
    {
     "name": "stdout",
     "output_type": "stream",
     "text": [
      "T-stat: -9.109162784527106\n",
      "p-value: 6.987223288128022e-17\n",
      "95% One-Sided CI: [<-0.2799188312704168]\n"
     ]
    }
   ],
   "source": [
    "# H_0: The second hotlap attempt is on average not faster than the first hotlap attempt. L2-L1 >= 0\n",
    "# H_1: The second hotlap attempt is on average faster than the first hotlap attempt. L2-L1 < 0\n",
    "\n",
    "result = ttest_rel(lap_two_times, lap_one_times, alternative='less')\n",
    "print('T-stat:', result.statistic)\n",
    "print('p-value:', result.pvalue)\n",
    "ci_95 = result.confidence_interval(confidence_level=0.95)\n",
    "print(f\"95% One-Sided CI: [<{ci_95.high:}]\")"
   ]
  },
  {
   "cell_type": "code",
   "execution_count": 79,
   "id": "2e7a6201-cfe4-4b51-abf8-fae11080bc3e",
   "metadata": {},
   "outputs": [
    {
     "data": {
      "text/plain": [
       "46"
      ]
     },
     "execution_count": 79,
     "metadata": {},
     "output_type": "execute_result"
    }
   ],
   "source": [
    "# Create a series to indicate session-driver pairings where only 1 hotlap was completed\n",
    "one_hotlap = hotlaps[hotlaps == 1].index\n",
    "\n",
    "# Filter data to contain only samples involved in a 1 hotlap session\n",
    "one_hotlap_df = df[df[['DATE', 'DRIVER']].apply(tuple, axis=1).isin(one_hotlap.tolist())]\n",
    "one_hotlap_df.shape[0]"
   ]
  },
  {
   "cell_type": "code",
   "execution_count": 80,
   "id": "bb59f7b0-3328-48ae-b8d6-18425c8bf554",
   "metadata": {},
   "outputs": [],
   "source": [
    "from scipy.stats import probplot\n",
    "import matplotlib.pyplot as plt"
   ]
  },
  {
   "cell_type": "code",
   "execution_count": 81,
   "id": "5279f5ec-2bf8-49f2-975b-1cbf65cc88fc",
   "metadata": {},
   "outputs": [
    {
     "data": {
      "image/png": "[encoded data removed]",
      "text/plain": [
       "<Figure size 640x480 with 1 Axes>"
      ]
     },
     "metadata": {},
     "output_type": "display_data"
    }
   ],
   "source": [
    "# Q-Q plot to check normality of grid position distribution for 1 hotlap sessions\n",
    "data = one_hotlap_df.POS_FINAL\n",
    "stats.probplot(data, dist=\"norm\", plot=plt)\n",
    "plt.title(\"Q-Q Plot\")\n",
    "plt.show()"
   ]
  },
  {
   "cell_type": "code",
   "execution_count": 82,
   "id": "e6b27df0-89df-4fa6-8275-ed800f08d79b",
   "metadata": {},
   "outputs": [
    {
     "data": {
      "image/png": "[encoded data removed]",
      "text/plain": [
       "<Figure size 640x480 with 1 Axes>"
      ]
     },
     "metadata": {},
     "output_type": "display_data"
    }
   ],
   "source": [
    "# Q-Q plot to check normality of grid position distribution for 2 hotlap sessions\n",
    "data = multi_hotlap_df.POS_FINAL\n",
    "stats.probplot(data, dist=\"norm\", plot=plt)\n",
    "plt.title(\"Q-Q Plot\")\n",
    "plt.show()"
   ]
  },
  {
   "cell_type": "code",
   "execution_count": 83,
   "id": "1fceb766-ac09-484b-99ba-e59fe75de167",
   "metadata": {},
   "outputs": [],
   "source": [
    "from scipy.stats import levene"
   ]
  },
  {
   "cell_type": "code",
   "execution_count": 84,
   "id": "2c98e98f-ad06-4d69-a961-2a1b218608a8",
   "metadata": {},
   "outputs": [
    {
     "name": "stdout",
     "output_type": "stream",
     "text": [
      "T-stat: 0.02711006050433892\n",
      "p-value: 0.8693636705502706\n"
     ]
    }
   ],
   "source": [
    "# Implement Levene's Test to evaluate equality of variances\n",
    "\n",
    "one_lap_positions = one_hotlap_df.POS_FINAL\n",
    "two_lap_positions = multi_hotlap_df.drop_duplicates(['DATE', 'POS_FINAL']).POS_FINAL\n",
    "\n",
    "result = levene(one_lap_positions, two_lap_positions)\n",
    "print('T-stat:', result.statistic)\n",
    "print('p-value:', result.pvalue)"
   ]
  },
  {
   "cell_type": "code",
   "execution_count": 85,
   "id": "4a5959b7-da85-43e3-8835-3656cc82d348",
   "metadata": {},
   "outputs": [],
   "source": [
    "from scipy.stats import ttest_ind"
   ]
  },
  {
   "cell_type": "code",
   "execution_count": 86,
   "id": "dda532d7-28a6-49a0-ad5d-03c942460f0e",
   "metadata": {},
   "outputs": [
    {
     "name": "stdout",
     "output_type": "stream",
     "text": [
      "T-stat: 2.3257220813370645\n",
      "p-value: 0.0104539425652641\n",
      "95% One-Sided CI: [>0.31229697713522786]\n"
     ]
    }
   ],
   "source": [
    "# Test whether drivers attempting 2 hotlaps (as opposed to 1) qualify for better grid position\n",
    "# Smaller grid position = better\n",
    "\n",
    "# H_0: On average, grid position for drivers who attempt 1 hotlap in Q3 is no worse than grid position \n",
    "# for drivers attempting 2 hotlaps in Q3\n",
    "# H_1: On average, grid position for drivers who attempt 1 hotlap in Q3 is worse than grid position\n",
    "# for drivers attempting 2 hotlaps in Q3\n",
    "\n",
    "result = ttest_ind(one_lap_positions, two_lap_positions, equal_var=True, alternative='greater')\n",
    "print('T-stat:', result.statistic)\n",
    "print('p-value:', result.pvalue)\n",
    "ci_95 = result.confidence_interval(confidence_level=0.95)\n",
    "print(f\"95% One-Sided CI: [>{ci_95.low:}]\")"
   ]
  }
 ],
 "metadata": {
  "kernelspec": {
   "display_name": "Python 3 (ipykernel)",
   "language": "python",
   "name": "python3"
  },
  "language_info": {
   "codemirror_mode": {
    "name": "ipython",
    "version": 3
   },
   "file_extension": ".py",
   "mimetype": "text/x-python",
   "name": "python",
   "nbconvert_exporter": "python",
   "pygments_lexer": "ipython3",
   "version": "3.12.5"
  }
 },
 "nbformat": 4,
 "nbformat_minor": 5
}
